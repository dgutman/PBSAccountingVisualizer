{
 "cells": [
  {
   "cell_type": "code",
   "execution_count": 3,
   "metadata": {
    "collapsed": true
   },
   "outputs": [],
   "source": [
    "import glob, os, sys\n",
    "\n",
    "data_dir = 'data_files/'"
   ]
  },
  {
   "cell_type": "code",
   "execution_count": 20,
   "metadata": {
    "collapsed": false
   },
   "outputs": [],
   "source": [
    "### Let's first get a list of files from the datafiles directory that I may (or may not?? ) want to parse\n",
    "dataFiles = glob.glob(data_dir+'20160*')"
   ]
  },
  {
   "cell_type": "code",
   "execution_count": 23,
   "metadata": {
    "collapsed": false
   },
   "outputs": [],
   "source": [
    "executed_jobs = 0\n",
    "\n",
    "LogOutput = []\n",
    "\n",
    "for f in dataFiles:\n",
    "    LogOutput.append( analyze_data_file( f) )"
   ]
  },
  {
   "cell_type": "code",
   "execution_count": 27,
   "metadata": {
    "collapsed": false
   },
   "outputs": [
    {
     "name": "stdout",
     "output_type": "stream",
     "text": [
      "[{'LogDate': 'data_files/20160313', 'executed_jobs': 1},\n",
      " {'LogDate': 'data_files/20160314', 'executed_jobs': 15},\n",
      " {'LogDate': 'data_files/20160315', 'executed_jobs': 10},\n",
      " {'LogDate': 'data_files/20160316', 'executed_jobs': 4570},\n",
      " {'LogDate': 'data_files/20160320', 'executed_jobs': 12},\n",
      " {'LogDate': 'data_files/20160324', 'executed_jobs': 1},\n",
      " {'LogDate': 'data_files/20160325', 'executed_jobs': 873},\n",
      " {'LogDate': 'data_files/20160326', 'executed_jobs': 1170},\n",
      " {'LogDate': 'data_files/20160327', 'executed_jobs': 1779},\n",
      " {'LogDate': 'data_files/20160328', 'executed_jobs': 1364},\n",
      " {'LogDate': 'data_files/20160329', 'executed_jobs': 624},\n",
      " {'LogDate': 'data_files/20160330', 'executed_jobs': 307},\n",
      " {'LogDate': 'data_files/20160401', 'executed_jobs': 92},\n",
      " {'LogDate': 'data_files/20160403', 'executed_jobs': 712},\n",
      " {'LogDate': 'data_files/20160404', 'executed_jobs': 6264},\n",
      " {'LogDate': 'data_files/20160405', 'executed_jobs': 1373},\n",
      " {'LogDate': 'data_files/20160406', 'executed_jobs': 304},\n",
      " {'LogDate': 'data_files/20160407', 'executed_jobs': 566},\n",
      " {'LogDate': 'data_files/20160408', 'executed_jobs': 2},\n",
      " {'LogDate': 'data_files/20160420', 'executed_jobs': 124},\n",
      " {'LogDate': 'data_files/20160421', 'executed_jobs': 158},\n",
      " {'LogDate': 'data_files/20160422', 'executed_jobs': 1102},\n",
      " {'LogDate': 'data_files/20160423', 'executed_jobs': 36},\n",
      " {'LogDate': 'data_files/20160424', 'executed_jobs': 1190},\n",
      " {'LogDate': 'data_files/20160425', 'executed_jobs': 485},\n",
      " {'LogDate': 'data_files/20160426', 'executed_jobs': 1136},\n",
      " {'LogDate': 'data_files/20160427', 'executed_jobs': 753},\n",
      " {'LogDate': 'data_files/20160428', 'executed_jobs': 4},\n",
      " {'LogDate': 'data_files/20160429', 'executed_jobs': 336},\n",
      " {'LogDate': 'data_files/20160430', 'executed_jobs': 2030},\n",
      " {'LogDate': 'data_files/20160501', 'executed_jobs': 240},\n",
      " {'LogDate': 'data_files/20160502', 'executed_jobs': 1688},\n",
      " {'LogDate': 'data_files/20160503', 'executed_jobs': 621},\n",
      " {'LogDate': 'data_files/20160504', 'executed_jobs': 516},\n",
      " {'LogDate': 'data_files/20160505', 'executed_jobs': 926},\n",
      " {'LogDate': 'data_files/20160506', 'executed_jobs': 1420},\n",
      " {'LogDate': 'data_files/20160509', 'executed_jobs': 115},\n",
      " {'LogDate': 'data_files/20160510', 'executed_jobs': 234},\n",
      " {'LogDate': 'data_files/20160511', 'executed_jobs': 317},\n",
      " {'LogDate': 'data_files/20160513', 'executed_jobs': 220},\n",
      " {'LogDate': 'data_files/20160514', 'executed_jobs': 1},\n",
      " {'LogDate': 'data_files/20160516', 'executed_jobs': 2182},\n",
      " {'LogDate': 'data_files/20160517', 'executed_jobs': 497},\n",
      " {'LogDate': 'data_files/20160518', 'executed_jobs': 1623},\n",
      " {'LogDate': 'data_files/20160519', 'executed_jobs': 47},\n",
      " {'LogDate': 'data_files/20160520', 'executed_jobs': 8},\n",
      " {'LogDate': 'data_files/20160521', 'executed_jobs': 1},\n",
      " {'LogDate': 'data_files/20160522', 'executed_jobs': 42},\n",
      " {'LogDate': 'data_files/20160523', 'executed_jobs': 9},\n",
      " {'LogDate': 'data_files/20160527', 'executed_jobs': 130},\n",
      " {'LogDate': 'data_files/20160531', 'executed_jobs': 1238},\n",
      " {'LogDate': 'data_files/20160601', 'executed_jobs': 550},\n",
      " {'LogDate': 'data_files/20160602', 'executed_jobs': 240},\n",
      " {'LogDate': 'data_files/20160606', 'executed_jobs': 1519},\n",
      " {'LogDate': 'data_files/20160607', 'executed_jobs': 11},\n",
      " {'LogDate': 'data_files/20160613', 'executed_jobs': 1448},\n",
      " {'LogDate': 'data_files/20160614', 'executed_jobs': 1477},\n",
      " {'LogDate': 'data_files/20160615', 'executed_jobs': 1258},\n",
      " {'LogDate': 'data_files/20160616', 'executed_jobs': 1530},\n",
      " {'LogDate': 'data_files/20160617', 'executed_jobs': 883},\n",
      " {'LogDate': 'data_files/20160618', 'executed_jobs': 1702},\n",
      " {'LogDate': 'data_files/20160619', 'executed_jobs': 2651},\n",
      " {'LogDate': 'data_files/20160620', 'executed_jobs': 372},\n",
      " {'LogDate': 'data_files/20160621', 'executed_jobs': 220},\n",
      " {'LogDate': 'data_files/20160622', 'executed_jobs': 680},\n",
      " {'LogDate': 'data_files/20160623', 'executed_jobs': 182},\n",
      " {'LogDate': 'data_files/20160624', 'executed_jobs': 653},\n",
      " {'LogDate': 'data_files/20160625', 'executed_jobs': 276},\n",
      " {'LogDate': 'data_files/20160626', 'executed_jobs': 264},\n",
      " {'LogDate': 'data_files/20160627', 'executed_jobs': 91},\n",
      " {'LogDate': 'data_files/20160628', 'executed_jobs': 277},\n",
      " {'LogDate': 'data_files/20160629', 'executed_jobs': 233},\n",
      " {'LogDate': 'data_files/20160630', 'executed_jobs': 9},\n",
      " {'LogDate': 'data_files/20160701', 'executed_jobs': 1},\n",
      " {'LogDate': 'data_files/20160702', 'executed_jobs': 2299},\n",
      " {'LogDate': 'data_files/20160703', 'executed_jobs': 44}]\n"
     ]
    }
   ],
   "source": [
    "from pprint import pprint\n",
    "pprint(LogOutput)"
   ]
  },
  {
   "cell_type": "code",
   "execution_count": 32,
   "metadata": {
    "collapsed": false
   },
   "outputs": [
    {
     "data": {
      "text/html": [
       "<script>requirejs.config({paths: { 'plotly': ['https://cdn.plot.ly/plotly-latest.min']},});if(!window.Plotly) {{require(['plotly'],function(plotly) {window.Plotly=plotly;});}}</script>"
      ],
      "text/plain": [
       "<IPython.core.display.HTML object>"
      ]
     },
     "metadata": {},
     "output_type": "display_data"
    }
   ],
   "source": [
    "#!pip install plotly\n",
    "import plotly\n",
    "from plotly.graph_objs import Scatter, Layout, Bar\n",
    "from plotly import __version__\n",
    "from plotly.offline import download_plotlyjs, init_notebook_mode, plot, iplot\n",
    "\n",
    "init_notebook_mode(connected=True)"
   ]
  },
  {
   "cell_type": "code",
   "execution_count": 51,
   "metadata": {
    "collapsed": false
   },
   "outputs": [
    {
     "data": {
      "text/html": [
       "<div id=\"d9a2d6ab-539f-49ec-886d-1ea627f08712\" style=\"height: 525px; width: 100%;\" class=\"plotly-graph-div\"></div><script type=\"text/javascript\">require([\"plotly\"], function(Plotly) { window.PLOTLYENV=window.PLOTLYENV || {};window.PLOTLYENV.BASE_URL=\"https://plot.ly\";Plotly.newPlot(\"d9a2d6ab-539f-49ec-886d-1ea627f08712\", [{\"y\": [1, 15, 10, 4570, 12, 1, 873, 1170, 1779, 1364, 624, 307, 92, 712, 6264, 1373, 304, 566, 2, 124, 158, 1102, 36, 1190, 485, 1136, 753, 4, 336, 2030, 240, 1688, 621, 516, 926, 1420, 115, 234, 317, 220, 1, 2182, 497, 1623, 47, 8, 1, 42, 9, 130, 1238, 550, 240, 1519, 11, 1448, 1477, 1258, 1530, 883, 1702, 2651, 372, 220, 680, 182, 653, 276, 264, 91, 277, 233, 9, 1, 2299, 44], \"x\": [\" /20160313\", \" /20160314\", \" /20160315\", \" /20160316\", \" /20160320\", \" /20160324\", \" /20160325\", \" /20160326\", \" /20160327\", \" /20160328\", \" /20160329\", \" /20160330\", \" /20160401\", \" /20160403\", \" /20160404\", \" /20160405\", \" /20160406\", \" /20160407\", \" /20160408\", \" /20160420\", \" /20160421\", \" /20160422\", \" /20160423\", \" /20160424\", \" /20160425\", \" /20160426\", \" /20160427\", \" /20160428\", \" /20160429\", \" /20160430\", \" /20160501\", \" /20160502\", \" /20160503\", \" /20160504\", \" /20160505\", \" /20160506\", \" /20160509\", \" /20160510\", \" /20160511\", \" /20160513\", \" /20160514\", \" /20160516\", \" /20160517\", \" /20160518\", \" /20160519\", \" /20160520\", \" /20160521\", \" /20160522\", \" /20160523\", \" /20160527\", \" /20160531\", \" /20160601\", \" /20160602\", \" /20160606\", \" /20160607\", \" /20160613\", \" /20160614\", \" /20160615\", \" /20160616\", \" /20160617\", \" /20160618\", \" /20160619\", \" /20160620\", \" /20160621\", \" /20160622\", \" /20160623\", \" /20160624\", \" /20160625\", \" /20160626\", \" /20160627\", \" /20160628\", \" /20160629\", \" /20160630\", \" /20160701\", \" /20160702\", \" /20160703\"], \"type\": \"bar\"}], {}, {\"linkText\": \"Export to plot.ly\", \"showLink\": true})});</script>"
      ],
      "text/plain": [
       "<IPython.core.display.HTML object>"
      ]
     },
     "metadata": {},
     "output_type": "display_data"
    }
   ],
   "source": [
    "import plotly.plotly as py\n",
    "import plotly.graph_objs as go\n",
    "\n",
    "xdata = [ x['LogDate'].replace('data_files',' ')  for x in LogOutput]\n",
    "ydata = [y['executed_jobs'] for y in LogOutput]\n",
    "\n",
    "data = [go.Bar( x=xdata, y=ydata)]\n",
    "iplot(data, filename='basic-bar')"
   ]
  },
  {
   "cell_type": "code",
   "execution_count": 22,
   "metadata": {
    "collapsed": false
   },
   "outputs": [],
   "source": [
    "import re\n",
    "\n",
    "mfrSubmit=  re.compile(' .*user=(?P<user>.*) group=(?P<group>.*) jobname=(?P<jobname>.*) queue=(?P<queue>.*) ctime=(?P<ctime>\\d+) qtime=(?P<qtime>\\d+) \\\n",
    "etime=(?P<etime>\\d+) start=(?P<start>\\d+) owner=(?P<owner>.*) exec_host=(?P<exec_host>.*)' )\n",
    "##my first regex\n",
    "\n",
    "mfrExec = re.compile('.*;(?P<jobEntryType>.);.*user=(?P<user>.*) group=(?P<group>.*) jobname=(?P<jobname>.*) queue=(?P<queue>.*) ctime=(?P<ctime>\\d+) qtime=(?P<qtime>\\d+) \\\n",
    "etime=(?P<etime>\\d+) start=(?P<start>\\d+) owner=(?P<owner>.*) exec_host=(?P<exec_host>.*)' )\n",
    "\n",
    "def analyze_data_file( fileName):\n",
    "    \"\"\"This will scan a log file from PBS/Torque and extract meaningful information about how many jobs were\n",
    "    run, how long they took, etc\"\"\"\n",
    "\n",
    "    executed_jobs = 0\n",
    "    \n",
    "    with open(fileName, 'rU') as infile:\n",
    "        for line in infile:\n",
    "            line = line.strip()\n",
    "            m = mfrExec.search(line)\n",
    "            if m:\n",
    "                if m.groupdict()['jobEntryType'] == \"E\":\n",
    "                    #print m.groupdict()\n",
    "                    executed_jobs +=1\n",
    "    return (  {'LogDate': fileName, 'executed_jobs': executed_jobs})\n",
    "            "
   ]
  },
  {
   "cell_type": "code",
   "execution_count": null,
   "metadata": {
    "collapsed": true
   },
   "outputs": [],
   "source": []
  },
  {
   "cell_type": "code",
   "execution_count": 43,
   "metadata": {
    "collapsed": false
   },
   "outputs": [],
   "source": [
    "sample_file = dataFiles[2]\n",
    "with  open(sample_file,'rU') as fp:\n",
    "    sampleData = fp.readlines()"
   ]
  },
  {
   "cell_type": "code",
   "execution_count": 71,
   "metadata": {
    "collapsed": false
   },
   "outputs": [
    {
     "name": "stdout",
     "output_type": "stream",
     "text": [
      "07/03/2016 00:06:45;S;47140.oppenheimer.neurology.emory.edu;user=dgutman group=cci-users jobname=TCGA-DX-A6YU-01Z-00-DX1 queue=batch ctime=1467492352 qtime=1467492352 etime=1467492352 start=1467518805 owner=dgutman@oppenheimer.neurology.emory.edu exec_host=hpg6-17/4+hpg6-17/5+hpg6-17/6+hpg6-17/7 Resource_List.neednodes=1:ppn=4:matlab Resource_List.nodect=1 Resource_List.nodes=1:ppn=4:matlab Resource_List.walltime=24:00:00 \n",
      "\n",
      "{'ctime': '1467492352',\n",
      " 'etime': '1467492352',\n",
      " 'exec_host': 'hpg6-17/4+hpg6-17/5+hpg6-17/6+hpg6-17/7 Resource_List.neednodes=1:ppn=4:matlab Resource_List.nodect=1 Resource_List.nodes=1:ppn=4:matlab Resource_List.walltime=24:00:00 ',\n",
      " 'group': 'cci-users',\n",
      " 'jobname': 'TCGA-DX-A6YU-01Z-00-DX1',\n",
      " 'owner': 'dgutman@oppenheimer.neurology.emory.edu',\n",
      " 'qtime': '1467492352',\n",
      " 'queue': 'batch',\n",
      " 'start': '1467518805',\n",
      " 'user': 'dgutman'}\n"
     ]
    }
   ],
   "source": [
    "from pprint import pprint\n",
    "\n",
    "sampleData[5]\n",
    "mfr=  re.compile(' .*user=(?P<user>.*) group=(?P<group>.*) jobname=(?P<jobname>.*) queue=(?P<queue>.*) ctime=(?P<ctime>\\d+) qtime=(?P<qtime>\\d+) \\\n",
    "etime=(?P<etime>\\d+) start=(?P<start>\\d+) owner=(?P<owner>.*) exec_host=(?P<exec_host>.*)' )\n",
    "print sampleData[5]\n",
    "m= mfr.search(sampleData[5])\n",
    "if m:\n",
    "    pprint( m.groupdict())"
   ]
  }
 ],
 "metadata": {
  "kernelspec": {
   "display_name": "Python 2",
   "language": "python",
   "name": "python2"
  },
  "language_info": {
   "codemirror_mode": {
    "name": "ipython",
    "version": 2
   },
   "file_extension": ".py",
   "mimetype": "text/x-python",
   "name": "python",
   "nbconvert_exporter": "python",
   "pygments_lexer": "ipython2",
   "version": "2.7.12"
  }
 },
 "nbformat": 4,
 "nbformat_minor": 0
}
